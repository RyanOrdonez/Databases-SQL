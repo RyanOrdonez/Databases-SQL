{
 "cells": [
  {
   "cell_type": "markdown",
   "metadata": {},
   "source": [
    "# DTSA 5733: Relational Database Design\n",
    "\n",
    "## Course Overview and Quick Reference Guide\n",
    "\n",
    "This notebook serves as a comprehensive overview and quick reference guide for the key concepts, techniques, and implementations covered in this course.\n",
    "\n",
    "### Course Objectives\n",
    "- Understanding database design principles and methodologies\n",
    "- Mastering Entity-Relationship (ER) modeling\n",
    "- Implementing normalization techniques\n",
    "- Designing efficient and scalable database schemas"
   ]
  },
  {
   "cell_type": "code",
   "execution_count": null,
   "metadata": {},
   "source": [
    "# Import common libraries\n",
    "import sqlite3\n",
    "import pandas as pd\n",
    "import matplotlib.pyplot as plt\n",
    "import seaborn as sns\n",
    "\n",
    "# Display settings\n",
    "%matplotlib inline\n",
    "plt.style.use('seaborn')"
   ]
  },
  {
   "cell_type": "markdown",
   "metadata": {},
   "source": [
    "## Week 1: Introduction to Database Design\n",
    "\n",
    "### Key Concepts\n",
    "- Database Management Systems (DBMS)\n",
    "- Relational Model\n",
    "- ACID Properties\n",
    "- Database Design Life Cycle\n",
    "\n",
    "### Important Terms\n",
    "- Schema\n",
    "- Table/Relation\n",
    "- Primary Key\n",
    "- Foreign Key\n",
    "\n",
    "### Code Examples"
   ]
  },
  {
   "cell_type": "code",
   "execution_count": null,
   "metadata": {},
   "source": [
    "def create_sample_database():\n",
    "    \"\"\"Create a sample SQLite database\"\"\"\n",
    "    conn = sqlite3.connect('sample.db')\n",
    "    cursor = conn.cursor()\n",
    "    \n",
    "    # Create tables\n",
    "    cursor.execute('''\n",
    "        CREATE TABLE IF NOT EXISTS customers (\n",
    "            customer_id INTEGER PRIMARY KEY,\n",
    "            name TEXT NOT NULL,\n",
    "            email TEXT UNIQUE\n",
    "        )\n",
    "    ''')\n",
    "    \n",
    "    conn.commit()\n",
    "    conn.close()"
   ]
  },
  {
   "cell_type": "markdown",
   "metadata": {},
   "source": [
    "## Week 2: Entity-Relationship Modeling\n",
    "\n",
    "### Key Concepts\n",
    "- Entities and Attributes\n",
    "- Relationships and Cardinality\n",
    "- Strong vs. Weak Entities\n",
    "- ER Diagram Notation\n",
    "\n",
    "### Important Terms\n",
    "- One-to-One Relationship\n",
    "- One-to-Many Relationship\n",
    "- Many-to-Many Relationship\n",
    "- Composite Attributes\n",
    "\n",
    "### Code Examples"
   ]
  },
  {
   "cell_type": "code",
   "execution_count": null,
   "metadata": {},
   "source": [
    "def implement_many_to_many():\n",
    "    \"\"\"Implement a many-to-many relationship\"\"\"\n",
    "    conn = sqlite3.connect('sample.db')\n",
    "    cursor = conn.cursor()\n",
    "    \n",
    "    # Create junction table\n",
    "    cursor.execute('''\n",
    "        CREATE TABLE IF NOT EXISTS student_courses (\n",
    "            student_id INTEGER,\n",
    "            course_id INTEGER,\n",
    "            PRIMARY KEY (student_id, course_id),\n",
    "            FOREIGN KEY (student_id) REFERENCES students(id),\n",
    "            FOREIGN KEY (course_id) REFERENCES courses(id)\n",
    "        )\n",
    "    ''')\n",
    "    \n",
    "    conn.commit()\n",
    "    conn.close()"
   ]
  }
 ],
 "metadata": {
  "kernelspec": {
   "display_name": "Python 3",
   "language": "python",
   "name": "python3"
  },
  "language_info": {
   "codemirror_mode": {
    "name": "ipython",
    "version": 3
   },
   "file_extension": ".py",
   "mimetype": "text/x-python",
   "name": "python",
   "nbconvert_exporter": "python",
   "pygments_lexer": "ipython3",
   "version": "3.8.0"
  }
 },
 "nbformat": 4,
 "nbformat_minor": 4
}
