{
 "cells": [
  {
   "cell_type": "markdown",
   "metadata": {},
   "source": [
    "# DTSA 5734: SQL Core\n",
    "\n",
    "## Course Overview and Quick Reference Guide\n",
    "\n",
    "This notebook serves as a comprehensive overview and quick reference guide for the key concepts, techniques, and implementations covered in this course.\n",
    "\n",
    "### Course Objectives\n",
    "- Mastering SQL fundamentals and advanced queries\n",
    "- Understanding database manipulation and management\n",
    "- Implementing complex joins and subqueries\n",
    "- Optimizing SQL performance"
   ]
  },
  {
   "cell_type": "code",
   "execution_count": null,
   "metadata": {},
   "source": [
    "# Import common libraries\n",
    "import sqlite3\n",
    "import pandas as pd\n",
    "import matplotlib.pyplot as plt\n",
    "import seaborn as sns\n",
    "\n",
    "# Display settings\n",
    "%matplotlib inline\n",
    "plt.style.use('seaborn')"
   ]
  },
  {
   "cell_type": "markdown",
   "metadata": {},
   "source": [
    "## Week 1: SQL Fundamentals\n",
    "\n",
    "### Key Concepts\n",
    "- SELECT statements\n",
    "- WHERE clauses\n",
    "- ORDER BY and GROUP BY\n",
    "- Aggregate functions\n",
    "\n",
    "### Important Terms\n",
    "- DML (Data Manipulation Language)\n",
    "- DDL (Data Definition Language)\n",
    "- DCL (Data Control Language)\n",
    "- TCL (Transaction Control Language)\n",
    "\n",
    "### Code Examples"
   ]
  },
  {
   "cell_type": "code",
   "execution_count": null,
   "metadata": {},
   "source": [
    "def basic_sql_queries():\n",
    "    \"\"\"Demonstrate basic SQL queries\"\"\"\n",
    "    conn = sqlite3.connect('sample.db')\n",
    "    \n",
    "    # Basic SELECT\n",
    "    query1 = \"SELECT * FROM customers WHERE age > 25 ORDER BY name\"\n",
    "    \n",
    "    # Aggregation\n",
    "    query2 = \"\"\"\n",
    "        SELECT \n",
    "            country,\n",
    "            COUNT(*) as customer_count,\n",
    "            AVG(age) as avg_age\n",
    "        FROM customers\n",
    "        GROUP BY country\n",
    "        HAVING COUNT(*) > 10\n",
    "    \"\"\"\n",
    "    \n",
    "    # Execute queries using pandas\n",
    "    df1 = pd.read_sql_query(query1, conn)\n",
    "    df2 = pd.read_sql_query(query2, conn)\n",
    "    \n",
    "    conn.close()\n",
    "    return df1, df2"
   ]
  },
  {
   "cell_type": "markdown",
   "metadata": {},
   "source": [
    "## Week 2: Advanced Queries and Joins\n",
    "\n",
    "### Key Concepts\n",
    "- INNER JOIN\n",
    "- LEFT/RIGHT/FULL OUTER JOIN\n",
    "- Subqueries\n",
    "- Common Table Expressions (CTEs)\n",
    "\n",
    "### Important Terms\n",
    "- Join conditions\n",
    "- Self joins\n",
    "- Correlated subqueries\n",
    "- Window functions\n",
    "\n",
    "### Code Examples"
   ]
  },
  {
   "cell_type": "code",
   "execution_count": null,
   "metadata": {},
   "source": [
    "def advanced_sql_queries():\n",
    "    \"\"\"Demonstrate advanced SQL queries\"\"\"\n",
    "    conn = sqlite3.connect('sample.db')\n",
    "    \n",
    "    # Complex JOIN\n",
    "    query = \"\"\"\n",
    "        WITH monthly_sales AS (\n",
    "            SELECT \n",
    "                customer_id,\n",
    "                strftime('%Y-%m', order_date) as month,\n",
    "                SUM(amount) as total_amount,\n",
    "                COUNT(*) as order_count\n",
    "            FROM orders\n",
    "            GROUP BY customer_id, month\n",
    "        )\n",
    "        SELECT \n",
    "            c.name,\n",
    "            ms.month,\n",
    "            ms.total_amount,\n",
    "            ms.order_count,\n",
    "            AVG(ms.total_amount) OVER (\n",
    "                PARTITION BY c.customer_id \n",
    "                ORDER BY ms.month \n",
    "                ROWS BETWEEN 2 PRECEDING AND CURRENT ROW\n",
    "            ) as moving_avg\n",
    "        FROM customers c\n",
    "        JOIN monthly_sales ms ON c.customer_id = ms.customer_id\n",
    "        ORDER BY c.name, ms.month\n",
    "    \"\"\"\n",
    "    \n",
    "    df = pd.read_sql_query(query, conn)\n",
    "    conn.close()\n",
    "    return df"
   ]
  }
 ],
 "metadata": {
  "kernelspec": {
   "display_name": "Python 3",
   "language": "python",
   "name": "python3"
  },
  "language_info": {
   "codemirror_mode": {
    "name": "ipython",
    "version": 3
   },
   "file_extension": ".py",
   "mimetype": "text/x-python",
   "name": "python",
   "nbconvert_exporter": "python",
   "pygments_lexer": "ipython3",
   "version": "3.8.0"
  }
 },
 "nbformat": 4,
 "nbformat_minor": 4
}
