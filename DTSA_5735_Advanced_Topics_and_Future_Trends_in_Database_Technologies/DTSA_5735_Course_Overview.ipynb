{
 "cells": [
  {
   "cell_type": "markdown",
   "metadata": {},
   "source": [
    "# DTSA 5735: Advanced Topics and Future Trends in Database Technologies\n",
    "\n",
    "## Course Overview and Quick Reference Guide\n",
    "\n",
    "This notebook serves as a comprehensive overview and quick reference guide for the key concepts, techniques, and implementations covered in this course.\n",
    "\n",
    "### Course Objectives\n",
    "- Understanding modern database architectures\n",
    "- Exploring NoSQL databases and their use cases\n",
    "- Implementing distributed database systems\n",
    "- Mastering data warehousing and analytics"
   ]
  },
  {
   "cell_type": "code",
   "execution_count": null,
   "metadata": {},
   "source": [
    "# Import common libraries\n",
    "import pymongo\n",
    "import redis\n",
    "import pandas as pd\n",
    "import matplotlib.pyplot as plt\n",
    "import seaborn as sns\n",
    "\n",
    "# Display settings\n",
    "%matplotlib inline\n",
    "plt.style.use('seaborn')"
   ]
  },
  {
   "cell_type": "markdown",
   "metadata": {},
   "source": [
    "## Week 1: NoSQL Databases\n",
    "\n",
    "### Key Concepts\n",
    "- Document Databases (MongoDB)\n",
    "- Key-Value Stores (Redis)\n",
    "- Column-Family Stores (Cassandra)\n",
    "- Graph Databases (Neo4j)\n",
    "\n",
    "### Important Terms\n",
    "- CAP Theorem\n",
    "- Eventual Consistency\n",
    "- Sharding\n",
    "- Replication\n",
    "\n",
    "### Code Examples"
   ]
  },
  {
   "cell_type": "code",
   "execution_count": null,
   "metadata": {},
   "source": [
    "def mongodb_example():\n",
    "    \"\"\"Demonstrate MongoDB operations\"\"\"\n",
    "    client = pymongo.MongoClient(\"mongodb://localhost:27017/\")\n",
    "    db = client[\"sample_db\"]\n",
    "    \n",
    "    # Insert document\n",
    "    user = {\n",
    "        \"name\": \"John Doe\",\n",
    "        \"email\": \"john@example.com\",\n",
    "        \"preferences\": {\n",
    "            \"theme\": \"dark\",\n",
    "            \"notifications\": True\n",
    "        },\n",
    "        \"tags\": [\"premium\", \"early_adopter\"]\n",
    "    }\n",
    "    \n",
    "    result = db.users.insert_one(user)\n",
    "    \n",
    "    # Query with aggregation\n",
    "    pipeline = [\n",
    "        {\"$match\": {\"tags\": \"premium\"}},\n",
    "        {\"$group\": {\n",
    "            \"_id\": \"$preferences.theme\",\n",
    "            \"count\": {\"$sum\": 1}\n",
    "        }}\n",
    "    ]\n",
    "    \n",
    "    results = list(db.users.aggregate(pipeline))\n",
    "    return results"
   ]
  },
  {
   "cell_type": "markdown",
   "metadata": {},
   "source": [
    "## Week 2: Distributed Databases and Big Data\n",
    "\n",
    "### Key Concepts\n",
    "- Distributed Architecture\n",
    "- Data Partitioning\n",
    "- MapReduce\n",
    "- Stream Processing\n",
    "\n",
    "### Important Terms\n",
    "- Horizontal Scaling\n",
    "- Vertical Scaling\n",
    "- Data Lakes\n",
    "- ETL Processes\n",
    "\n",
    "### Code Examples"
   ]
  },
  {
   "cell_type": "code",
   "execution_count": null,
   "metadata": {},
   "source": [
    "def redis_example():\n",
    "    \"\"\"Demonstrate Redis operations\"\"\"\n",
    "    r = redis.Redis(host='localhost', port=6379, db=0)\n",
    "    \n",
    "    # Basic operations\n",
    "    r.set('user:1:name', 'John Doe')\n",
    "    r.expire('user:1:name', 3600)  # Expire in 1 hour\n",
    "    \n",
    "    # Lists\n",
    "    r.lpush('recent_searches', 'query1')\n",
    "    r.ltrim('recent_searches', 0, 9)  # Keep only last 10 searches\n",
    "    \n",
    "    # Sets\n",
    "    r.sadd('active_users', 'user:1', 'user:2')\n",
    "    \n",
    "    # Sorted Sets\n",
    "    r.zadd('leaderboard', {\n",
    "        'player1': 100,\n",
    "        'player2': 200\n",
    "    })\n",
    "    \n",
    "    # Get top 3 players\n",
    "    top_players = r.zrevrange('leaderboard', 0, 2, withscores=True)\n",
    "    return top_players"
   ]
  }
 ],
 "metadata": {
  "kernelspec": {
   "display_name": "Python 3",
   "language": "python",
   "name": "python3"
  },
  "language_info": {
   "codemirror_mode": {
    "name": "ipython",
    "version": 3
   },
   "file_extension": ".py",
   "mimetype": "text/x-python",
   "name": "python",
   "nbconvert_exporter": "python",
   "pygments_lexer": "ipython3",
   "version": "3.8.0"
  }
 },
 "nbformat": 4,
 "nbformat_minor": 4
}
